{
 "cells": [
  {
   "cell_type": "markdown",
   "metadata": {},
   "source": [
    "# Dart Programming Language"
   ]
  },
  {
   "cell_type": "markdown",
   "metadata": {},
   "source": [
    "# 1. Basic Syntax\n",
    "\n",
    "## Entry Point\n",
    "\n",
    "Every app requires the top-level main() function, where execution starts. Functions that don't explicitly return a value have the void return type.\n",
    "\n",
    "```dart\n",
    "void main() {\n",
    "    // Your code here\n",
    "}\n",
    "```"
   ]
  },
  {
   "cell_type": "code",
   "execution_count": null,
   "metadata": {
    "vscode": {
     "languageId": "plaintext"
    }
   },
   "outputs": [],
   "source": [
    "print(\"Hello, Dart!\");\n",
    "var name = \"Guddu Kumar\";\n",
    "print(\"Hello, $name\");\n",
    "print(\"Hello, ${name.toUpperCase()}\");\n",
    "print(\"Score, ${4 + 3}\");"
   ]
  },
  {
   "cell_type": "markdown",
   "metadata": {},
   "source": [
    "# 2. Variables and Constants"
   ]
  },
  {
   "cell_type": "markdown",
   "metadata": {},
   "source": [
    "## Variable Declaration\n",
    "### Type inferred"
   ]
  },
  {
   "cell_type": "code",
   "execution_count": null,
   "metadata": {},
   "outputs": [],
   "source": [
    "// Type inferred\n",
    "var _int = 30101998;\n",
    "var _double = 3010.1998;\n",
    "var _String = 'India';\n",
    "var _bool = true;\n",
    "var _List = ['Sunday', 'Monday', 'Tuesday', 'Wednesday', 'Thursday', 'Saturday'];\n",
    "var _Set = {'fluorine', 'chlorine', 'bromine', 'iodine', 'astatine'};\n",
    "var _Map = {\n",
    "  'name': \"Riya Mehta\",\n",
    "  'age': 20,\n",
    "  'skill' : ['Programmer', 'Teacher']\n",
    "};"
   ]
  },
  {
   "cell_type": "markdown",
   "metadata": {},
   "source": [
    "### Explicit type (Data Types)\n",
    "##### Primitive Types\n",
    "- `int`: Integer values\n",
    "- `double`: Floating-point values\n",
    "- `String`: Text values\n",
    "- `bool`: Boolean values (`true`/`false`)\n",
    "\n",
    "##### Collections\n",
    "- `List`: Ordered collection `[a_1, a_2, ...]`. [more](https://api.dart.dev/stable/3.5.3/dart-core/List-class.html)\n",
    "- `Set` : Unordered collection of unique items `{a_1, a_2, ...}`. [more](https://api.dart.dev/stable/3.5.3/dart-core/Set-class.html)\n",
    "- `Map` : Key-value pairs `{key_1 : value_1, key_2 : value_2, ...}`. [more](https://api.dart.dev/stable/3.5.3/dart-core/Map-class.html)"
   ]
  },
  {
   "cell_type": "code",
   "execution_count": null,
   "metadata": {},
   "outputs": [],
   "source": [
    "int number = 987654321;\n",
    "double decimal = 3010.1998;\n",
    "String country = 'India';\n",
    "bool Isdeveloper = true;\n",
    "List vowels = ['A', 'E', 'I', 'O', 'U'];\n",
    "Set factor_of_180 = {2, 2, 5, 3, 3};\n",
    "Map gifts = {\n",
    "  // Key:    Value\n",
    "  'first': 'partridge',\n",
    "  'second': 'turtledoves',\n",
    "  'fifth': 'golden rings'\n",
    "};\n",
    "Map nobleGases = {\n",
    "  2: 'helium',\n",
    "  10: 'neon',\n",
    "  18: 'argon',\n",
    "};"
   ]
  },
  {
   "cell_type": "markdown",
   "metadata": {},
   "source": [
    "### Constants\n",
    "\n",
    "- `final`: Runtime constant\n",
    "- `const`: Compile-time constant"
   ]
  },
  {
   "cell_type": "code",
   "execution_count": null,
   "metadata": {},
   "outputs": [],
   "source": [
    "final String lastName = 'Doe';\n",
    "const int pi = 3.1416;"
   ]
  },
  {
   "cell_type": "markdown",
   "metadata": {},
   "source": [
    "### Nullable variables\n",
    "A variable of type int can't have the value null:"
   ]
  },
  {
   "cell_type": "code",
   "execution_count": null,
   "metadata": {},
   "outputs": [],
   "source": [
    "int a = null; // INVALID."
   ]
  },
  {
   "cell_type": "code",
   "execution_count": null,
   "metadata": {},
   "outputs": [],
   "source": [
    "int? a = null; // Valid.\n",
    "int? a; // The initial value of a is null."
   ]
  },
  {
   "cell_type": "code",
   "execution_count": null,
   "metadata": {},
   "outputs": [],
   "source": [
    "var a = null;\n",
    "dynamic a = null;"
   ]
  },
  {
   "cell_type": "markdown",
   "metadata": {},
   "source": [
    "### Type Aliases\n",
    "You can create type aliases in Dart to simplify complex type definitions, making your code more readable."
   ]
  },
  {
   "cell_type": "code",
   "execution_count": null,
   "metadata": {},
   "outputs": [],
   "source": [
    "typedef IntList = List<int>;\n",
    "\n",
    "void main() {\n",
    "  IntList numbers = [1, 2, 3, 4, 5];\n",
    "  print(numbers); // Output: [1, 2, 3, 4, 5]\n",
    "}\n"
   ]
  },
  {
   "cell_type": "markdown",
   "metadata": {},
   "source": [
    "# 4. Operators\n",
    "## Built-in Operators\n",
    "Dart provides a variety of built-in operators, including:\n",
    "* Arithmetic Operators: `+`, `-`, `*`,`/`, `~/` (integer division), `%` (modulus)\n",
    "* Relational Operators: `==`, `!=`, `>`, `<`, `>=`, `<=`\n",
    "* Logical Operators: `&&` (and), `||` (or), `!` (not)\n",
    "* Assignment Operators: `=`, `+=`, `-=`, `*=`, `/=`, `%=`\n",
    "* Bitwise Operators: `&`, `|`, `^`, `~`, `<<`, `>>`"
   ]
  },
  {
   "cell_type": "markdown",
   "metadata": {},
   "source": [
    "# 5. Control Flow"
   ]
  },
  {
   "cell_type": "markdown",
   "metadata": {},
   "source": [
    "## 5.1 `if` Conditional Statements\n",
    "* Use `int, double, String, List, Set, Map` is compile-time error\n",
    "* Use `dynamic` is runtime error\n",
    "* **Notes :** Conditions is only assigned `bool` type\n",
    "\n",
    "* `if` statement\n",
    "    ```dart\n",
    "    if (Conditions){\n",
    "        // True Statements\n",
    "    }\n",
    "    ```\n",
    "* `if-else` statement\n",
    "    ```dart\n",
    "    if (Conditions){\n",
    "        // True Statements\n",
    "    } else{\n",
    "        // False Statment\n",
    "    }\n",
    "    ```\n",
    "* `if-else if-else` statment\n",
    "    ```dart\n",
    "    if (Conditions_1){\n",
    "        // Conditions_1 is True\n",
    "    } else if (Conditions_2){\n",
    "        // Conditons_1 is False and \n",
    "        // Conditons_2 is True\n",
    "    } else if (Conditions_3){\n",
    "        // Conditons_1 is False,\n",
    "        // Conditons_2 is False and \n",
    "        // Conditons_3 is True\n",
    "    } else {\n",
    "        // All Conditions are False\n",
    "    }\n",
    "    ```\n",
    "*\n",
    "  ```dart\n",
    "  variable = condition ? True_statement : False_statment;\n",
    "  ```\n",
    "\n",
    "## 5.2 `switch` Statement\n",
    "\n",
    "```dart\n",
    "switch (day) {\n",
    "  case 'Monday':\n",
    "    print('Start of the week');\n",
    "    break;\n",
    "  default:\n",
    "    print('Another day');\n",
    "}\n",
    "```\n",
    "\n",
    "## 5.3 Loops\n",
    "\n",
    "### `while` Loop Statement\n",
    "while loop check condition before iteration of the loop\n",
    "\n",
    "```dart\n",
    "while (condition) {\n",
    "  // code\n",
    "}\n",
    "```\n",
    "### `do-while` Loop Statement\n",
    "\n",
    "do-while loop verifies the condition after the execution of the statements inside the loop\n",
    "\n",
    "```dart\n",
    "do {\n",
    "  // code\n",
    "} while (condition);\n",
    "```\n",
    "\n",
    "### `for` Loop Statement\n",
    "\n",
    "```dart\n",
    "for (var i = 0; i < 5; i++) {\n",
    "  print(i);\n",
    "}\n",
    "```\n",
    "\n",
    "```dart\n",
    "// For-in loop\n",
    "for (var fruit in fruits) {\n",
    "  print(fruit);\n",
    "}\n",
    "```\n",
    "\n",
    "## 5.4 Development only\n",
    "```dart\n",
    "assert(conditions)\n",
    "```"
   ]
  },
  {
   "cell_type": "markdown",
   "metadata": {},
   "source": [
    "# 6. Functions"
   ]
  },
  {
   "cell_type": "markdown",
   "metadata": {},
   "source": [
    "## Defining Functions"
   ]
  },
  {
   "cell_type": "code",
   "execution_count": null,
   "metadata": {},
   "outputs": [],
   "source": [
    "int add(int a, int b) {\n",
    "  return a + b;\n",
    "}\n",
    "\n",
    "// Arrow syntax for single-expression functions\n",
    "int multiply(int a, int b) => a * b;"
   ]
  },
  {
   "cell_type": "markdown",
   "metadata": {},
   "source": [
    "## Optional Parameters"
   ]
  },
  {
   "cell_type": "code",
   "execution_count": null,
   "metadata": {},
   "outputs": [],
   "source": [
    "void greet(String name, [String greeting = 'Hello']) {\n",
    "  print('$greeting, $name!');\n",
    "}\n",
    "\n",
    "void greetNamed({required String name, String greeting = 'Hello'}) {\n",
    "  print('$greeting, $name!');\n",
    "}"
   ]
  },
  {
   "cell_type": "markdown",
   "metadata": {},
   "source": [
    "## Anonymous Functions (Lambdas)"
   ]
  },
  {
   "cell_type": "code",
   "execution_count": null,
   "metadata": {},
   "outputs": [],
   "source": [
    "var list = [1, 2, 3];\n",
    "var squared = list.map((x) => x * x);"
   ]
  },
  {
   "cell_type": "markdown",
   "metadata": {},
   "source": [
    "## Functional Programming Features\n",
    "Dart supports functional programming concepts, allowing you to treat functions as first-class citizens. You can pass functions as arguments, return them from other functions, and assign them to variables."
   ]
  },
  {
   "cell_type": "code",
   "execution_count": null,
   "metadata": {},
   "outputs": [],
   "source": [
    "void main() {\n",
    "  var add = (int a, int b) => a + b;\n",
    "  var result = operate(5, 3, add);\n",
    "  print(result); // Output: 8\n",
    "}\n",
    "\n",
    "int operate(int a, int b, int Function(int, int) operation) {\n",
    "  return operation(a, b);\n",
    "}\n"
   ]
  },
  {
   "cell_type": "markdown",
   "metadata": {},
   "source": [
    "## Higher-Order Functions\n",
    "Higher-order functions are functions that take other functions as parameters or return them. This is a powerful feature for creating more abstract and reusable code."
   ]
  },
  {
   "cell_type": "code",
   "execution_count": null,
   "metadata": {},
   "outputs": [],
   "source": [
    "List<int> filter(List<int> list, bool Function(int) test) {\n",
    "  List<int> result = [];\n",
    "  for (var item in list) {\n",
    "    if (test(item)) {\n",
    "      result.add(item);\n",
    "    }\n",
    "  }\n",
    "  return result;\n",
    "}\n",
    "\n",
    "void main() {\n",
    "  var numbers = [1, 2, 3, 4, 5];\n",
    "  var evenNumbers = filter(numbers, (n) => n.isEven);\n",
    "  print(evenNumbers); // Output: [2, 4]\n",
    "}\n"
   ]
  },
  {
   "cell_type": "markdown",
   "metadata": {},
   "source": [
    "# 7. Object-Oriented Programming (OOP)"
   ]
  },
  {
   "cell_type": "markdown",
   "metadata": {},
   "source": [
    "## Classes and Objects"
   ]
  },
  {
   "cell_type": "markdown",
   "metadata": {},
   "source": [
    "### Defining a Class\n",
    "A class is a blueprint for creating objects. An object is an instance of a class."
   ]
  },
  {
   "cell_type": "code",
   "execution_count": null,
   "metadata": {},
   "outputs": [],
   "source": [
    "class Car {\n",
    "  // Properties\n",
    "  String color;\n",
    "  String model;\n",
    "\n",
    "  // Constructor\n",
    "  Car(this.color, this.model);\n",
    "\n",
    "  // Method\n",
    "  void displayInfo() {\n",
    "    print('Car model: $model, Color: $color');\n",
    "  }\n",
    "}\n",
    "\n",
    "void main() {\n",
    "  // Creating an object of the Car class\n",
    "  Car myCar = Car('Red', 'Toyota');\n",
    "  myCar.displayInfo(); // Output: Car model: Toyota, Color: Red\n",
    "}"
   ]
  },
  {
   "cell_type": "markdown",
   "metadata": {},
   "source": [
    "### Getters and Setters"
   ]
  },
  {
   "cell_type": "code",
   "execution_count": null,
   "metadata": {},
   "outputs": [],
   "source": [
    "class Rectangle {\n",
    "  double width;\n",
    "  double height;\n",
    "\n",
    "  Rectangle(this.width, this.height);\n",
    "\n",
    "  double get area => width * height; // Getter\n",
    "  set setWidth(double w) => width = w; // Setter\n",
    "}"
   ]
  },
  {
   "cell_type": "markdown",
   "metadata": {},
   "source": [
    "### Static Members\n",
    "Static members belong to the class itself rather than to any specific instance. They can be accessed without creating an instance of the class."
   ]
  },
  {
   "cell_type": "code",
   "execution_count": null,
   "metadata": {},
   "outputs": [],
   "source": [
    "class MathUtils {\n",
    "  static int add(int a, int b) {\n",
    "    return a + b;\n",
    "  }\n",
    "}\n",
    "\n",
    "void main() {\n",
    "  int result = MathUtils.add(5, 3);\n",
    "  print(result); // Output: 8\n",
    "}\n"
   ]
  },
  {
   "cell_type": "markdown",
   "metadata": {},
   "source": [
    "### Operator Overloading\n",
    "Dart allows you to define how operators work with your custom classes."
   ]
  },
  {
   "cell_type": "code",
   "execution_count": null,
   "metadata": {},
   "outputs": [],
   "source": [
    "class Vector {\n",
    "  final double x;\n",
    "  final double y;\n",
    "\n",
    "  Vector(this.x, this.y);\n",
    "\n",
    "  Vector operator +(Vector other) {\n",
    "    return Vector(x + other.x, y + other.y);\n",
    "  }\n",
    "\n",
    "  Vector operator -(Vector other) {\n",
    "    return Vector(x - other.x, y - other.y);\n",
    "  }\n",
    "\n",
    "  Vector operator *(double scalar) {\n",
    "    return Vector(x * scalar, y * scalar);\n",
    "  }\n",
    "\n",
    "  Vector operator /(double scalar) {\n",
    "    return Vector(x / scalar, y / scalar);\n",
    "  }\n",
    "\n",
    "  // Negation operator\n",
    "  Vector operator -() {\n",
    "    return Vector(-x, -y);\n",
    "  }\n",
    "\n",
    "  // Logical NOT operator (for demonstration)\n",
    "  bool operator !() {\n",
    "    return x == 0 && y == 0; // Returns true if the vector is (0, 0)\n",
    "  }\n",
    "\n",
    "  @override\n",
    "  bool operator ==(Object other) {\n",
    "    if (other is! Vector) return false;\n",
    "    return x == other.x && y == other.y;\n",
    "  }\n",
    "\n",
    "  @override\n",
    "  int get hashCode => x.hashCode ^ y.hashCode;\n",
    "\n",
    "  // String Representation:  \n",
    "  @override\n",
    "  String toString() => 'Vector($x, $y)';\n",
    "}\n",
    "\n",
    "void main() {\n",
    "  Vector v1 = Vector(2, 3);\n",
    "  Vector v2 = Vector(4, 5);\n",
    "  \n",
    "  Vector sum = v1 + v2;\n",
    "  Vector difference = v1 - v2;\n",
    "  Vector scaled = v1 * 2;\n",
    "  Vector divided = v1 / 2;\n",
    "\n",
    "  print('Sum: $sum'); // Output: Sum: Vector(6.0, 8.0)\n",
    "  print('Difference: $difference'); // Output: Difference: Vector(-2.0, -2.0)\n",
    "  print('Scaled: $scaled'); // Output: Scaled: Vector(4.0, 6.0)\n",
    "  print('Divided: $divided'); // Output: Divided: Vector(1.0, 1.5)\n",
    "}\n"
   ]
  },
  {
   "cell_type": "markdown",
   "metadata": {},
   "source": [
    "#### Index Operator (`[]` and `[]=`)\n",
    "You can define the index operator to allow array-like access to your objects."
   ]
  },
  {
   "cell_type": "code",
   "execution_count": null,
   "metadata": {},
   "outputs": [],
   "source": [
    "class Matrix {\n",
    "  final List<List<int>> _data;\n",
    "\n",
    "  Matrix(this._data);\n",
    "\n",
    "  // Index operator for getting values\n",
    "  int operator [](int index) {\n",
    "    return _data[index];\n",
    "  }\n",
    "\n",
    "  // Index operator for setting values\n",
    "  void operator []=(int index, List<int> value) {\n",
    "    _data[index] = value;\n",
    "  }\n",
    "\n",
    "  int get length => _vectors.length;\n",
    "}\n",
    "\n",
    "void main() {\n",
    "  Matrix matrix = Matrix([[1, 2], [3, 4]]);\n",
    "  print(matrix[0]); // Output: [1, 2]\n",
    "  matrix[1] = [5, 6];\n",
    "  print(matrix[1]); // Output: [5, 6]\n",
    "}\n"
   ]
  },
  {
   "cell_type": "markdown",
   "metadata": {},
   "source": [
    "### Late Initialization\n",
    "Dart provides the `late` keyword for variables that will be initialized later. This is useful for properties that cannot be initialized in the constructor."
   ]
  },
  {
   "cell_type": "code",
   "execution_count": null,
   "metadata": {},
   "outputs": [],
   "source": [
    "class User {\n",
    "  late String name; // Late initialization\n",
    "\n",
    "  void setName(String newName) {\n",
    "    name = newName;\n",
    "  }\n",
    "}\n",
    "\n",
    "void main() {\n",
    "  User user = User();\n",
    "  user.setName('Alice');\n",
    "  print(user.name); // Output: Alice\n",
    "}\n"
   ]
  },
  {
   "cell_type": "markdown",
   "metadata": {},
   "source": [
    "### Null Safety\n",
    "Dart has built-in null safety, which helps prevent null reference errors. You can define nullable and non-nullable types."
   ]
  },
  {
   "cell_type": "code",
   "execution_count": null,
   "metadata": {},
   "outputs": [],
   "source": [
    "class Person {\n",
    "  String name; // Non-nullable\n",
    "  int? age; // Nullable\n",
    "\n",
    "  Person(this.name, [this.age]);\n",
    "}\n",
    "\n",
    "void main() {\n",
    "  Person person1 = Person('Bob', 30);\n",
    "  Person person2 = Person('Alice');\n",
    "\n",
    "  print('${person1.name} is ${person1.age} years old.'); // Output: Bob is 30 years old.\n",
    "  print('${person2.name} is ${person2.age ?? 'unknown'} years old.'); // Output: Alice is unknown years old.\n",
    "}\n"
   ]
  },
  {
   "cell_type": "markdown",
   "metadata": {},
   "source": [
    "### Metadata and Annotations\n",
    "Dart allows you to use metadata (annotations) to provide additional information about classes, methods, or properties."
   ]
  },
  {
   "cell_type": "code",
   "execution_count": null,
   "metadata": {},
   "outputs": [],
   "source": [
    "class Deprecated {\n",
    "  const Deprecated();\n",
    "}\n",
    "\n",
    "@Deprecated()\n",
    "class OldClass {\n",
    "  void oldMethod() {\n",
    "    print('This method is deprecated');\n",
    "  }\n",
    "}\n",
    "\n",
    "void main() {\n",
    "  OldClass old = OldClass();\n",
    "  old.oldMethod(); // Output: This method is deprecated\n",
    "}\n"
   ]
  },
  {
   "cell_type": "markdown",
   "metadata": {},
   "source": [
    "## Inheritance\n",
    "Inheritance allows a class to inherit properties and methods from another class."
   ]
  },
  {
   "cell_type": "code",
   "execution_count": null,
   "metadata": {},
   "outputs": [],
   "source": [
    "class Animal {\n",
    "  void speak() {\n",
    "    print('Animal speaks');\n",
    "  }\n",
    "}\n",
    "\n",
    "class Dog extends Animal {\n",
    "  @override\n",
    "  void speak() {\n",
    "    print('Woof');\n",
    "  }\n",
    "}"
   ]
  },
  {
   "cell_type": "code",
   "execution_count": null,
   "metadata": {},
   "outputs": [],
   "source": [
    "class Vehicle {\n",
    "  String brand;\n",
    "\n",
    "  Vehicle(this.brand);\n",
    "\n",
    "  void honk() {\n",
    "    print('Beep! Beep!');\n",
    "  }\n",
    "}\n",
    "\n",
    "class Bike extends Vehicle {\n",
    "  int wheels;\n",
    "\n",
    "  Bike(String brand, this.wheels) : super(brand);\n",
    "\n",
    "  void displayInfo() {\n",
    "    print('Bike brand: $brand, Wheels: $wheels');\n",
    "  }\n",
    "}\n",
    "\n",
    "void main() {\n",
    "  Bike myBike = Bike('Yamaha', 2);\n",
    "  myBike.honk(); // Output: Beep! Beep!\n",
    "  myBike.displayInfo(); // Output: Bike brand: Yamaha, Wheels: 2\n",
    "}\n"
   ]
  },
  {
   "cell_type": "markdown",
   "metadata": {},
   "source": [
    "## Encapsulation\n",
    "Encapsulation is the bundling of data and methods that operate on that data within one unit, and restricting access to some of the object's components."
   ]
  },
  {
   "cell_type": "code",
   "execution_count": null,
   "metadata": {},
   "outputs": [],
   "source": [
    "class BankAccount {\n",
    "  String _accountNumber; // Private property\n",
    "  double _balance;\n",
    "\n",
    "  BankAccount(this._accountNumber, this._balance);\n",
    "\n",
    "  // Method to deposit money\n",
    "  void deposit(double amount) {\n",
    "    if (amount > 0) {\n",
    "      _balance += amount;\n",
    "      print('Deposited: \\${amount}');\n",
    "    }\n",
    "  }\n",
    "\n",
    "  // Method to get balance\n",
    "  double get balance => _balance;\n",
    "}\n",
    "\n",
    "void main() {\n",
    "  BankAccount account = BankAccount('123456', 1000.0);\n",
    "  account.deposit(500.0);\n",
    "  print('Current balance: \\${account.balance}'); // Output: Current balance: $1500.0\n",
    "}\n"
   ]
  },
  {
   "cell_type": "markdown",
   "metadata": {},
   "source": [
    "## Polymorphism\n",
    "Polymorphism allows methods to do different things based on the object it is acting upon."
   ]
  },
  {
   "cell_type": "code",
   "execution_count": null,
   "metadata": {},
   "outputs": [],
   "source": [
    "class Animal {\n",
    "  void sound() {\n",
    "    print('Animal makes a sound');\n",
    "  }\n",
    "}\n",
    "\n",
    "class Dog extends Animal {\n",
    "  @override\n",
    "  void sound() {\n",
    "    print('Dog barks');\n",
    "  }\n",
    "}\n",
    "\n",
    "class Cat extends Animal {\n",
    "  @override\n",
    "  void sound() {\n",
    "    print('Cat meows');\n",
    "  }\n",
    "}\n",
    "\n",
    "void main() {\n",
    "  Animal myDog = Dog();\n",
    "  Animal myCat = Cat();\n",
    "\n",
    "  myDog.sound(); // Output: Dog barks\n",
    "  myCat.sound(); // Output: Cat meows\n",
    "}\n"
   ]
  },
  {
   "cell_type": "markdown",
   "metadata": {},
   "source": [
    "## Abstract Classes\n",
    "An abstract class cannot be instantiated and is meant to be subclassed."
   ]
  },
  {
   "cell_type": "code",
   "execution_count": null,
   "metadata": {},
   "outputs": [],
   "source": [
    "abstract class Shape {\n",
    "  void draw(); // Abstract method\n",
    "}\n",
    "\n",
    "class Circle extends Shape {\n",
    "  @override\n",
    "  void draw() {\n",
    "    print('Drawing a Circle');\n",
    "  }\n",
    "}\n",
    "\n",
    "class Square extends Shape {\n",
    "  @override\n",
    "  void draw() {\n",
    "    print('Drawing a Square');\n",
    "  }\n",
    "}\n",
    "\n",
    "void main() {\n",
    "  Shape circle = Circle();\n",
    "  Shape square = Square();\n",
    "\n",
    "  circle.draw(); // Output: Drawing a Circle\n",
    "  square.draw(); // Output: Drawing a Square\n",
    "}\n"
   ]
  },
  {
   "cell_type": "markdown",
   "metadata": {},
   "source": [
    "### Abstract Getters and Setters\n",
    "You can define abstract getters and setters in abstract classes, allowing subclasses to provide specific implementations."
   ]
  },
  {
   "cell_type": "code",
   "execution_count": null,
   "metadata": {},
   "outputs": [],
   "source": [
    "abstract class Shape {\n",
    "  double get area; // Abstract getter\n",
    "  set color(String c); // Abstract setter\n",
    "}\n",
    "\n",
    "class Rectangle implements Shape {\n",
    "  double width;\n",
    "  double height;\n",
    "  String _color;\n",
    "\n",
    "  Rectangle(this.width, this.height);\n",
    "\n",
    "  @override\n",
    "  double get area => width * height;\n",
    "\n",
    "  @override\n",
    "  set color(String c) {\n",
    "    _color = c;\n",
    "  }\n",
    "\n",
    "  String get color => _color;\n",
    "}\n",
    "\n",
    "void main() {\n",
    "  Rectangle rect = Rectangle(5, 10);\n",
    "  rect.color = 'Red';\n",
    "  print('Area: ${rect.area}, Color: ${rect.color}'); // Output: Area: 50.0, Color: Red\n",
    "}\n"
   ]
  },
  {
   "cell_type": "markdown",
   "metadata": {},
   "source": [
    "### Sealed Classes\n",
    "Dart does not have built-in support for sealed classes, but you can simulate them using abstract classes and private constructors. This is useful for defining a limited set of subclasses."
   ]
  },
  {
   "cell_type": "code",
   "execution_count": null,
   "metadata": {},
   "outputs": [],
   "source": [
    "abstract class Shape {\n",
    "  const Shape();\n",
    "}\n",
    "\n",
    "class Circle extends Shape {\n",
    "  final double radius;\n",
    "  const Circle(this.radius);\n",
    "}\n",
    "\n",
    "class Square extends Shape {\n",
    "  final double side;\n",
    "  const Square(this.side);\n",
    "}\n",
    "\n",
    "// Only Circle and Square can be created\n",
    "void main() {\n",
    "  Shape shape = Circle(5);\n",
    "  // Shape shape2 = Shape(); // This will cause an error\n",
    "}\n"
   ]
  },
  {
   "cell_type": "markdown",
   "metadata": {},
   "source": [
    "## Interfaces\n",
    "In Dart, every class implicitly defines an interface. You can implement multiple interfaces in a class."
   ]
  },
  {
   "cell_type": "code",
   "execution_count": null,
   "metadata": {},
   "outputs": [],
   "source": [
    "abstract class Animal {\n",
    "  void sound();\n",
    "}\n",
    "\n",
    "abstract class Pet {\n",
    "  void play();\n",
    "}\n",
    "\n",
    "class Dog implements Animal, Pet {\n",
    "  @override\n",
    "  void sound() {\n",
    "    print('Dog barks');\n",
    "  }\n",
    "\n",
    "  @override\n",
    "  void play() {\n",
    "    print('Dog plays fetch');\n",
    "  }\n",
    "}\n",
    "\n",
    "void main() {\n",
    "  Dog myDog = Dog();\n",
    "  myDog.sound(); // Output: Dog barks\n",
    "  myDog.play();  // Output: Dog plays fetch\n",
    "}\n"
   ]
  },
  {
   "cell_type": "markdown",
   "metadata": {},
   "source": [
    "## Mixins\n",
    "Mixins allow you to reuse a class’s code in multiple class hierarchies. You can use the `with` keyword to apply a mixin."
   ]
  },
  {
   "cell_type": "code",
   "execution_count": null,
   "metadata": {},
   "outputs": [],
   "source": [
    "mixin Swimmer {\n",
    "  void swim() {\n",
    "    print('Swimming');\n",
    "  }\n",
    "}\n",
    "\n",
    "mixin Flyer {\n",
    "  void fly() {\n",
    "    print('Flying');\n",
    "  }\n",
    "}\n",
    "\n",
    "class Duck with Swimmer, Flyer {\n",
    "  void quack() {\n",
    "    print('Quack');\n",
    "  }\n",
    "}\n",
    "\n",
    "void main() {\n",
    "  Duck myDuck = Duck();\n",
    "  myDuck.swim(); // Output: Swimming\n",
    "  myDuck.fly();  // Output: Flying\n",
    "  myDuck.quack(); // Output: Quack\n",
    "}\n"
   ]
  },
  {
   "cell_type": "markdown",
   "metadata": {},
   "source": [
    "### Constraints\n",
    "You can create mixins that can only be applied to classes that extend a specific base class."
   ]
  },
  {
   "cell_type": "code",
   "execution_count": null,
   "metadata": {},
   "outputs": [],
   "source": [
    "class Animal {\n",
    "  void eat() {\n",
    "    print('Eating');\n",
    "  }\n",
    "}\n",
    "\n",
    "mixin CanFly on Animal {\n",
    "  void fly() {\n",
    "    print('Flying');\n",
    "  }\n",
    "}\n",
    "\n",
    "class Bird extends Animal with CanFly {}\n",
    "\n",
    "void main() {\n",
    "  Bird bird = Bird();\n",
    "  bird.eat(); // Output: Eating\n",
    "  bird.fly(); // Output: Flying\n",
    "}\n"
   ]
  },
  {
   "cell_type": "markdown",
   "metadata": {},
   "source": [
    "## Generics\n",
    "Generics allow you to create classes, methods, and interfaces that work with any data type while providing type safety."
   ]
  },
  {
   "cell_type": "code",
   "execution_count": null,
   "metadata": {},
   "outputs": [],
   "source": [
    "class Box<T> {\n",
    "  T item;\n",
    "\n",
    "  Box(this.item);\n",
    "\n",
    "  T getItem() {\n",
    "    return item;\n",
    "  }\n",
    "}\n",
    "\n",
    "void main() {\n",
    "  Box<int> intBox = Box<int>(123);\n",
    "  print(intBox.getItem()); // Output: 123\n",
    "\n",
    "  Box<String> strBox = Box<String>('Hello');\n",
    "  print(strBox.getItem()); // Output: Hello\n",
    "}\n"
   ]
  },
  {
   "cell_type": "markdown",
   "metadata": {},
   "source": [
    "## Extension Methods\n",
    "Extension methods allow you to add new functionality to existing libraries or classes without modifying their source code."
   ]
  },
  {
   "cell_type": "code",
   "execution_count": null,
   "metadata": {},
   "outputs": [],
   "source": [
    "extension StringExtensions on String {\n",
    "  String get reversed {\n",
    "    return split('').reversed.join('');\n",
    "  }\n",
    "}\n",
    "\n",
    "void main() {\n",
    "  String myString = 'Hello';\n",
    "  print(myString.reversed); // Output: olleH\n",
    "}\n"
   ]
  },
  {
   "cell_type": "markdown",
   "metadata": {},
   "source": [
    "## Abstract Classes and Factory Constructors\n",
    "Abstract classes can have factory constructors that return instances of subclasses."
   ]
  },
  {
   "cell_type": "code",
   "execution_count": null,
   "metadata": {},
   "outputs": [],
   "source": [
    "abstract class Shape {\n",
    "  factory Shape(String type) {\n",
    "    if (type == 'circle') {\n",
    "      return Circle();\n",
    "    } else if (type == 'square') {\n",
    "      return Square();\n",
    "    }\n",
    "    throw 'Unknown shape type';\n",
    "  }\n",
    "\n",
    "  void draw();\n",
    "}\n",
    "\n",
    "class Circle implements Shape {\n",
    "  @override\n",
    "  void draw() {\n",
    "    print('Drawing a Circle');\n",
    "  }\n",
    "}\n",
    "\n",
    "class Square implements Shape {\n",
    "  @override\n",
    "  void draw() {\n",
    "    print('Drawing a Square');\n",
    "  }\n",
    "}\n",
    "\n",
    "void main() {\n",
    "  Shape shape1 = Shape('circle');\n",
    "  shape1.draw(); // Output: Drawing a Circle\n",
    "\n",
    "  Shape shape2 = Shape('square');\n",
    "  shape2.draw(); // Output: Drawing a Square\n",
    "}\n"
   ]
  },
  {
   "cell_type": "markdown",
   "metadata": {},
   "source": [
    "# 8. Collections"
   ]
  },
  {
   "cell_type": "markdown",
   "metadata": {},
   "source": [
    "# 9. Asynchronous Programming"
   ]
  },
  {
   "cell_type": "markdown",
   "metadata": {},
   "source": [
    "## Future and Async/Await\n",
    "Dart supports asynchronous programming using `Future` and `Stream`. This is essential for handling operations like I/O without blocking the main thread."
   ]
  },
  {
   "cell_type": "code",
   "execution_count": null,
   "metadata": {},
   "outputs": [],
   "source": [
    "Future<String> fetchData() async {\n",
    "  await Future.delayed(Duration(seconds: 2)); // Simulate a network call\n",
    "  return 'Data fetched';\n",
    "}\n",
    "\n",
    "void main() async {\n",
    "  print('Fetching data...');\n",
    "  String data = await fetchData();\n",
    "  print(data); // Output: Data fetched\n",
    "}\n"
   ]
  },
  {
   "cell_type": "markdown",
   "metadata": {},
   "source": [
    "## Stream\n",
    "Streams allow you to handle a sequence of asynchronous events. You can listen to a stream and react to new data as it arrives."
   ]
  },
  {
   "cell_type": "code",
   "execution_count": null,
   "metadata": {},
   "outputs": [],
   "source": [
    "Stream<int> countStream() async* {\n",
    "  for (int i = 1; i <= 5; i++) {\n",
    "    await Future.delayed(Duration(seconds: 1));\n",
    "    yield i; // Yielding values to the stream\n",
    "  }\n",
    "}\n",
    "\n",
    "void main() async {\n",
    "  await for (var value in countStream()) {\n",
    "    print(value); // Output: 1, 2, 3, 4, 5 (one per second)\n",
    "  }\n",
    "}\n"
   ]
  },
  {
   "cell_type": "markdown",
   "metadata": {},
   "source": [
    "# 10. Error Handling"
   ]
  },
  {
   "cell_type": "markdown",
   "metadata": {},
   "source": [
    "## Try-Catch"
   ]
  },
  {
   "cell_type": "code",
   "execution_count": null,
   "metadata": {},
   "outputs": [],
   "source": [
    "try {\n",
    "  var result = 10 ~/ 0; // Integer division\n",
    "} catch (e) {\n",
    "  print('Error: $e');\n",
    "} finally {\n",
    "  print('This will always execute');\n",
    "}"
   ]
  },
  {
   "cell_type": "markdown",
   "metadata": {},
   "source": [
    "# 11. Libraries and Packages"
   ]
  },
  {
   "cell_type": "markdown",
   "metadata": {},
   "source": [
    "## Importing Libraries"
   ]
  },
  {
   "cell_type": "code",
   "execution_count": null,
   "metadata": {},
   "outputs": [],
   "source": [
    "import 'dart:math'; // Math library\n",
    "import 'dart:convert'; // JSON encoding/decoding\n",
    "import 'package:http/http.dart' as http; // External package"
   ]
  }
 ],
 "metadata": {
  "kernelspec": {
   "display_name": "Dart",
   "language": "",
   "name": "jupyterdartkernel"
  },
  "language_info": {
   "file_extension": "dart",
   "mimetype": "application/dart",
   "name": "dart"
  }
 },
 "nbformat": 4,
 "nbformat_minor": 4
}
