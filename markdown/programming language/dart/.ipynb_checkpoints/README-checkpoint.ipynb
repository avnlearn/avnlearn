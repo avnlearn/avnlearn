{
 "cells": [
  {
   "cell_type": "markdown",
   "metadata": {},
   "source": [
    "# Dart Programming Language"
   ]
  },
  {
   "cell_type": "markdown",
   "metadata": {},
   "source": [
    "# 1. Basic Syntax\n",
    "\n",
    "## Entry Point\n",
    "\n",
    "Every app requires the top-level main() function, where execution starts. Functions that don't explicitly return a value have the void return type.\n",
    "\n",
    "```dart\n",
    "void main() {\n",
    "    // Your code here\n",
    "}\n",
    "```"
   ]
  },
  {
   "cell_type": "code",
   "execution_count": 1,
   "metadata": {
    "vscode": {
     "languageId": "plaintext"
    }
   },
   "outputs": [
    {
     "name": "stdout",
     "output_type": "stream",
     "text": [
      "Hello, Dart!\n",
      "Hello, Guddu Kumar\n",
      "Hello, GUDDU KUMAR\n",
      "Score, 7\n"
     ]
    }
   ],
   "source": [
    "print(\"Hello, Dart!\");\n",
    "var name = \"Guddu Kumar\";\n",
    "print(\"Hello, $name\");\n",
    "print(\"Hello, ${name.toUpperCase()}\");\n",
    "print(\"Score, ${4 + 3}\");"
   ]
  },
  {
   "cell_type": "markdown",
   "metadata": {},
   "source": [
    "# 2. Variables and Constants"
   ]
  },
  {
   "cell_type": "markdown",
   "metadata": {},
   "source": [
    "## Variable Declaration\n",
    "### Type inferred"
   ]
  },
  {
   "cell_type": "code",
   "execution_count": 6,
   "metadata": {},
   "outputs": [
    {
     "ename": "ERROR",
     "evalue": "error",
     "output_type": "error",
     "status": "error",
     "traceback": [
      "/tmp/tmpluf28mga/main.dart:40:5: Error: '_int' is already declared in this scope.",
      "var _int = 30101998;",
      "    ^^^^",
      "/tmp/tmpluf28mga/main.dart:6:5: Context: Previous declaration of '_int'.",
      "var _int = 30101998;",
      "    ^^^^",
      "/tmp/tmpluf28mga/main.dart:41:5: Error: '_double' is already declared in this scope.",
      "var _double = 3010.1998;",
      "    ^^^^^^^",
      "/tmp/tmpluf28mga/main.dart:7:5: Context: Previous declaration of '_double'.",
      "var _double = 3010.1998;",
      "    ^^^^^^^",
      "/tmp/tmpluf28mga/main.dart:42:5: Error: '_String' is already declared in this scope.",
      "var _String = 'India';",
      "    ^^^^^^^",
      "/tmp/tmpluf28mga/main.dart:8:5: Context: Previous declaration of '_String'.",
      "var _String = 'India';",
      "    ^^^^^^^",
      "/tmp/tmpluf28mga/main.dart:43:5: Error: '_bool' is already declared in this scope.",
      "var _bool = true;",
      "    ^^^^^",
      "/tmp/tmpluf28mga/main.dart:9:5: Context: Previous declaration of '_bool'.",
      "var _bool = true;",
      "    ^^^^^",
      "/tmp/tmpluf28mga/main.dart:44:5: Error: '_List' is already declared in this scope.",
      "var _List = ['Sunday', 'Monday', 'Tuesday', 'Wednesday', 'Thursday', 'Saturday'];",
      "    ^^^^^",
      "/tmp/tmpluf28mga/main.dart:10:5: Context: Previous declaration of '_List'.",
      "var _List = ['Sunday', 'Monday', 'Tuesday', 'Wednesday', 'Thursday', 'Saturday'];",
      "    ^^^^^"
     ]
    }
   ],
   "source": [
    "// Type inferred\n",
    "var _int = 30101998;\n",
    "var _double = 3010.1998;\n",
    "var _String = 'India';\n",
    "var _bool = true;\n",
    "var _List = ['Sunday', 'Monday', 'Tuesday', 'Wednesday', 'Thursday', 'Saturday'];\n",
    "var _Set = {'fluorine', 'chlorine', 'bromine', 'iodine', 'astatine'};\n",
    "var _Map = {\n",
    "  'name': \"Riya Mehta\",\n",
    "  'age': 20,\n",
    "  'skill' : ['Programmer', 'Teacher']\n",
    "};"
   ]
  },
  {
   "cell_type": "markdown",
   "metadata": {},
   "source": [
    "### Explicit type (Data Types)\n",
    "##### Primitive Types\n",
    "- `int`: Integer values\n",
    "- `double`: Floating-point values\n",
    "- `String`: Text values\n",
    "- `bool`: Boolean values (`true`/`false`)\n",
    "\n",
    "##### Collections\n",
    "- `List`: Ordered collection `[a_1, a_2, ...]`. [more](https://api.dart.dev/stable/3.5.3/dart-core/List-class.html)\n",
    "- `Set` : Unordered collection of unique items `{a_1, a_2, ...}`. [more](https://api.dart.dev/stable/3.5.3/dart-core/Set-class.html)\n",
    "- `Map` : Key-value pairs `{key_1 : value_1, key_2 : value_2, ...}`. [more](https://api.dart.dev/stable/3.5.3/dart-core/Map-class.html)"
   ]
  },
  {
   "cell_type": "code",
   "execution_count": null,
   "metadata": {},
   "outputs": [],
   "source": [
    "int number = 987654321;\n",
    "double decimal = 3010.1998;\n",
    "String country = 'India';\n",
    "bool Isdeveloper = true;\n",
    "List vowels = ['A', 'E', 'I', 'O', 'U'];\n",
    "Set factor_of_180 = {2, 2, 5, 3, 3};\n",
    "Map gifts = {\n",
    "  // Key:    Value\n",
    "  'first': 'partridge',\n",
    "  'second': 'turtledoves',\n",
    "  'fifth': 'golden rings'\n",
    "};\n",
    "Map nobleGases = {\n",
    "  2: 'helium',\n",
    "  10: 'neon',\n",
    "  18: 'argon',\n",
    "};"
   ]
  },
  {
   "cell_type": "markdown",
   "metadata": {},
   "source": [
    "### Constants\n",
    "\n",
    "- `final`: Runtime constant\n",
    "- `const`: Compile-time constant"
   ]
  },
  {
   "cell_type": "code",
   "execution_count": null,
   "metadata": {},
   "outputs": [],
   "source": [
    "final String lastName = 'Doe';\n",
    "const int pi = 3.1416;"
   ]
  },
  {
   "cell_type": "markdown",
   "metadata": {},
   "source": [
    "# 4. Control Flow"
   ]
  },
  {
   "cell_type": "markdown",
   "metadata": {},
   "source": [
    "## 4.1 `if` Conditional Statements\n",
    "* Use `int, double, String, List, Set, Map` is compile-time error\n",
    "* Use `dynamic` is runtime error\n",
    "* **Notes :** Conditions is only assigned `bool` type\n",
    "\n",
    "* `if` statement\n",
    "    ```dart\n",
    "    if (Conditions){\n",
    "        // True Statements\n",
    "    }\n",
    "    ```\n",
    "* `if-else` statement\n",
    "    ```dart\n",
    "    if (Conditions){\n",
    "        // True Statements\n",
    "    } else{\n",
    "        // False Statment\n",
    "    }\n",
    "    ```\n",
    "* `if-else if-else` statment\n",
    "    ```dart\n",
    "    if (Conditions_1){\n",
    "        // Conditions_1 is True\n",
    "    } else if (Conditions_2){\n",
    "        // Conditons_1 is False and \n",
    "        // Conditons_2 is True\n",
    "    } else if (Conditions_3){\n",
    "        // Conditons_1 is False,\n",
    "        // Conditons_2 is False and \n",
    "        // Conditons_3 is True\n",
    "    } else {\n",
    "        // All Conditions are False\n",
    "    }\n",
    "    ```\n",
    "*\n",
    "  ```dart\n",
    "  variable = condition ? True_statement : False_statment;\n",
    "  ```\n",
    "\n",
    "## 4.2 `switch` Statement\n",
    "\n",
    "```dart\n",
    "switch (day) {\n",
    "  case 'Monday':\n",
    "    print('Start of the week');\n",
    "    break;\n",
    "  default:\n",
    "    print('Another day');\n",
    "}\n",
    "```\n",
    "\n",
    "## 4.3 Loops\n",
    "\n",
    "### `while` Loop Statement\n",
    "while loop check condition before iteration of the loop\n",
    "\n",
    "```dart\n",
    "while (condition) {\n",
    "  // code\n",
    "}\n",
    "```\n",
    "### `do-while` Loop Statement\n",
    "\n",
    "do-while loop verifies the condition after the execution of the statements inside the loop\n",
    "\n",
    "```dart\n",
    "do {\n",
    "  // code\n",
    "} while (condition);\n",
    "```\n",
    "\n",
    "### `for` Loop Statement\n",
    "\n",
    "```dart\n",
    "for (var i = 0; i < 5; i++) {\n",
    "  print(i);\n",
    "}\n",
    "```\n",
    "\n",
    "```dart\n",
    "// For-in loop\n",
    "for (var fruit in fruits) {\n",
    "  print(fruit);\n",
    "}\n",
    "```\n",
    "\n",
    "## 4.4 Development only\n",
    "```dart\n",
    "assert(conditions)\n",
    "```"
   ]
  },
  {
   "cell_type": "code",
   "execution_count": null,
   "metadata": {},
   "outputs": [],
   "source": []
  }
 ],
 "metadata": {
  "kernelspec": {
   "display_name": "Dart",
   "language": "",
   "name": "jupyterdartkernel"
  },
  "language_info": {
   "file_extension": "dart",
   "mimetype": "application/dart",
   "name": "dart"
  }
 },
 "nbformat": 4,
 "nbformat_minor": 4
}
